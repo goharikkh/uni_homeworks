{
  "cells": [
    {
      "cell_type": "markdown",
      "id": "46bb61a9",
      "metadata": {
        "id": "46bb61a9"
      },
      "source": [
        "**1**. Пусть t  — значение статистики критерия Стьюдента для независимых выборок, $\\nu$  —  соответствующее число степеней свободы. Какая из строчек кода вычисляет достигаемый уровень значимости t-критерия при альтернативе $H_1: \\mu_1>\\mu_2$?\n",
        "\n",
        "1. 1-stats.t.cdf(abs(t), nu)\n",
        "\n",
        "2. 2*(1-stats.t.cdf(abs(t), nu))\n",
        "\n",
        "3. stats.t.cdf(abs(t), nu)\n",
        "\n",
        "4. 1-stats.t.cdf(t, nu)\n",
        "\n",
        "5. stats.t.cdf(t, nu)"
      ]
    },
    {
      "cell_type": "code",
      "execution_count": 2,
      "id": "8b926fc9",
      "metadata": {
        "id": "8b926fc9"
      },
      "outputs": [],
      "source": [
        "# 4"
      ]
    },
    {
      "cell_type": "markdown",
      "id": "389d61d9",
      "metadata": {
        "id": "389d61d9"
      },
      "source": [
        "**2**. Выберите ситуации, в которых допустимо проверять нулевую гипотезу $H_0: \\mu_1=\\mu_2$ против односторонней альтернативы $H_1: \\mu_1>\\mu_2$\n",
        "\n",
        "1. Случай $\\mu_1<\\mu_2$ нас не интересует: например, если $X_1$ — это эффективность изобретённого нами лекарства, а $X_2$ — эффективность плацебо, не в наших интересах брать двустороннюю альтернативу, потому что мы не хотим ненароком показать, что лекарство хуже плацебо.\n",
        "\n",
        "2. В полученных выборках $\\bar X_1 > \\bar X_2 $.\n",
        "\n",
        "3. Признаки устроены так, что $\\mu_1<\\mu_2$ в принципе невозможно."
      ]
    },
    {
      "cell_type": "code",
      "execution_count": null,
      "id": "60c8d3dd",
      "metadata": {
        "id": "60c8d3dd"
      },
      "outputs": [],
      "source": [
        "# 1, 3"
      ]
    },
    {
      "cell_type": "markdown",
      "id": "59927767",
      "metadata": {
        "id": "59927767"
      },
      "source": [
        "**3**. Выберите верные утверждения о проблеме Беренца-Фишера.\n",
        "\n",
        "\n",
        "1. Проблема заключается в том, что не существует точного способа сравнить средние двух выборок с неизвестными дисперсиями.\n",
        "\n",
        "2. Проблема заключается в том, что при сравнении средних двух выборок с неизвестными дисперсиями нельзя даже приближённо посчитать число степеней свободы у нулевого распределения t-критерия.\n",
        "\n",
        "3. Приближённое решение проблемы Беренца-Фишера достаточно точно при $n_1 = n_2$.\n",
        "\n",
        "4. Приближённое решение проблемы Беренца-Фишера достаточно точно при $[n_1>n_2] = [\\sigma_1<\\sigma_2]$"
      ]
    },
    {
      "cell_type": "code",
      "execution_count": null,
      "id": "9e8c0362",
      "metadata": {
        "id": "9e8c0362"
      },
      "outputs": [],
      "source": [
        "# 1, 3"
      ]
    },
    {
      "cell_type": "markdown",
      "id": "c0a61c33",
      "metadata": {
        "id": "c0a61c33"
      },
      "source": [
        "**4**. Уровень кальция в крови здоровых молодых женщин равен в среднем 9.5 милиграммам на децилитр и имеет характерное стандартное отклонение 0.4 мг/дл. В сельской больнице Гватемалы для 160 здоровых беременных женщин при первом обращении для ведения беременности был измерен уровень кальция; среднее значение составило 9.57 мг/дл. Можно ли утверждать, что средний уровень кальция в этой популяции отличается от 9.5?\n",
        "\n",
        "Посчитайте достигаемый уровень значимости. Поскольку известны только среднее и дисперсия, а не сама выборка, нельзя использовать стандартные функции критериев — нужно реализовать формулу достигаемого уровня значимости самостоятельно.\n",
        "\n",
        "Округлите ответ до четырёх знаков после десятичной точки.\n",
        "1 балл\n"
      ]
    },
    {
      "cell_type": "code",
      "execution_count": 23,
      "id": "a7a71faf",
      "metadata": {
        "colab": {
          "base_uri": "https://localhost:8080/"
        },
        "id": "a7a71faf",
        "outputId": "929992de-41e4-4ee8-fad9-646870ec07c9"
      },
      "outputs": [
        {
          "output_type": "stream",
          "name": "stdout",
          "text": [
            "t_stat 2.2136, p_value 0.0283\n"
          ]
        }
      ],
      "source": [
        "import numpy as np\n",
        "from scipy.stats import t\n",
        "\n",
        "x_mean = 9.57\n",
        "mu = 9.5\n",
        "n = 160\n",
        "sigma = 0.4\n",
        "\n",
        "t_stat = (x_mean - mu) / (sigma / np.sqrt(n))\n",
        "\n",
        "df = n - 1\n",
        "p_value = 2 * (1 - t.cdf(abs(t_stat), df))\n",
        "\n",
        "print('t_stat %0.4f, p_value %0.4f'  %(t_stat, p_value))"
      ]
    },
    {
      "cell_type": "markdown",
      "id": "8f7ed1ab",
      "metadata": {
        "id": "8f7ed1ab"
      },
      "source": [
        "**5**. Как вы считаете, это отличие в среднем уровне кальция в крови практически значимо?\n",
        "\n",
        "1. Нет, раз критерий Стьюдента говорит, что отличие незначимо.\n",
        "\n",
        "2. Да, раз критерий Стьюдента говорит, что отличие значимо.\n",
        "\n",
        "3. Скорее всего нет: стандартное отклонение уровня в популяции намного больше полученного различия между средними "
      ]
    },
    {
      "cell_type": "code",
      "execution_count": 7,
      "id": "d12aa278",
      "metadata": {
        "id": "d12aa278"
      },
      "outputs": [],
      "source": [
        "# 2"
      ]
    },
    {
      "cell_type": "markdown",
      "id": "e6effbf5",
      "metadata": {
        "id": "e6effbf5"
      },
      "source": [
        "**6**. Имеются данные о стоимости и размерах 53940 бриллиантов:\n",
        "Отделите 25% случайных наблюдений в тестовую выборку с помощью функции sklearn.model_selection.train_test_split (зафиксируйте random state = 1). На обучающей выборке настройте две регрессионные модели:\n",
        "\n",
        "    1. линейную регрессию с помощью LinearRegression без параметров\n",
        "    2. случайный лес из 10 деревьев с помощью RandomForestRegressor с random_state=1.\n",
        "Какая из моделей лучше предсказывает цену бриллиантов? Сделайте предсказания на тестовой выборке, посчитайте модули отклонений предсказаний от истинных цен. Проверьте гипотезу об одинаковом среднем качестве предсказаний, вычислите достигаемый уровень значимости. Отвергается ли гипотеза об одинаковом качестве моделей против двусторонней альтернативы на уровне значимости $\\alpha = 0.05$?"
      ]
    },
    {
      "cell_type": "code",
      "source": [
        "from sklearn.model_selection import train_test_split\n",
        "from sklearn.linear_model import LinearRegression\n",
        "from sklearn.ensemble import RandomForestRegressor\n",
        "from sklearn.metrics import mean_absolute_error\n",
        "import numpy as np\n",
        "from scipy import stats\n",
        "from statsmodels.stats.weightstats import CompareMeans, DescrStatsW"
      ],
      "metadata": {
        "id": "005lKdZNSLbC"
      },
      "id": "005lKdZNSLbC",
      "execution_count": 24,
      "outputs": []
    },
    {
      "cell_type": "code",
      "execution_count": 25,
      "id": "3d5a9c8f",
      "metadata": {
        "colab": {
          "base_uri": "https://localhost:8080/",
          "height": 206
        },
        "id": "3d5a9c8f",
        "outputId": "e28f9764-e3b5-4647-ead5-2b076bc143d5"
      },
      "outputs": [
        {
          "output_type": "execute_result",
          "data": {
            "text/plain": [
              "   carat  depth  table  price     x     y     z\n",
              "0   0.23   61.5   55.0    326  3.95  3.98  2.43\n",
              "1   0.21   59.8   61.0    326  3.89  3.84  2.31\n",
              "2   0.23   56.9   65.0    327  4.05  4.07  2.31\n",
              "3   0.29   62.4   58.0    334  4.20  4.23  2.63\n",
              "4   0.31   63.3   58.0    335  4.34  4.35  2.75"
            ],
            "text/html": [
              "\n",
              "  <div id=\"df-bde8f4fa-2e67-4ce5-87ae-cab5b6ba9ef0\">\n",
              "    <div class=\"colab-df-container\">\n",
              "      <div>\n",
              "<style scoped>\n",
              "    .dataframe tbody tr th:only-of-type {\n",
              "        vertical-align: middle;\n",
              "    }\n",
              "\n",
              "    .dataframe tbody tr th {\n",
              "        vertical-align: top;\n",
              "    }\n",
              "\n",
              "    .dataframe thead th {\n",
              "        text-align: right;\n",
              "    }\n",
              "</style>\n",
              "<table border=\"1\" class=\"dataframe\">\n",
              "  <thead>\n",
              "    <tr style=\"text-align: right;\">\n",
              "      <th></th>\n",
              "      <th>carat</th>\n",
              "      <th>depth</th>\n",
              "      <th>table</th>\n",
              "      <th>price</th>\n",
              "      <th>x</th>\n",
              "      <th>y</th>\n",
              "      <th>z</th>\n",
              "    </tr>\n",
              "  </thead>\n",
              "  <tbody>\n",
              "    <tr>\n",
              "      <th>0</th>\n",
              "      <td>0.23</td>\n",
              "      <td>61.5</td>\n",
              "      <td>55.0</td>\n",
              "      <td>326</td>\n",
              "      <td>3.95</td>\n",
              "      <td>3.98</td>\n",
              "      <td>2.43</td>\n",
              "    </tr>\n",
              "    <tr>\n",
              "      <th>1</th>\n",
              "      <td>0.21</td>\n",
              "      <td>59.8</td>\n",
              "      <td>61.0</td>\n",
              "      <td>326</td>\n",
              "      <td>3.89</td>\n",
              "      <td>3.84</td>\n",
              "      <td>2.31</td>\n",
              "    </tr>\n",
              "    <tr>\n",
              "      <th>2</th>\n",
              "      <td>0.23</td>\n",
              "      <td>56.9</td>\n",
              "      <td>65.0</td>\n",
              "      <td>327</td>\n",
              "      <td>4.05</td>\n",
              "      <td>4.07</td>\n",
              "      <td>2.31</td>\n",
              "    </tr>\n",
              "    <tr>\n",
              "      <th>3</th>\n",
              "      <td>0.29</td>\n",
              "      <td>62.4</td>\n",
              "      <td>58.0</td>\n",
              "      <td>334</td>\n",
              "      <td>4.20</td>\n",
              "      <td>4.23</td>\n",
              "      <td>2.63</td>\n",
              "    </tr>\n",
              "    <tr>\n",
              "      <th>4</th>\n",
              "      <td>0.31</td>\n",
              "      <td>63.3</td>\n",
              "      <td>58.0</td>\n",
              "      <td>335</td>\n",
              "      <td>4.34</td>\n",
              "      <td>4.35</td>\n",
              "      <td>2.75</td>\n",
              "    </tr>\n",
              "  </tbody>\n",
              "</table>\n",
              "</div>\n",
              "      <button class=\"colab-df-convert\" onclick=\"convertToInteractive('df-bde8f4fa-2e67-4ce5-87ae-cab5b6ba9ef0')\"\n",
              "              title=\"Convert this dataframe to an interactive table.\"\n",
              "              style=\"display:none;\">\n",
              "        \n",
              "  <svg xmlns=\"http://www.w3.org/2000/svg\" height=\"24px\"viewBox=\"0 0 24 24\"\n",
              "       width=\"24px\">\n",
              "    <path d=\"M0 0h24v24H0V0z\" fill=\"none\"/>\n",
              "    <path d=\"M18.56 5.44l.94 2.06.94-2.06 2.06-.94-2.06-.94-.94-2.06-.94 2.06-2.06.94zm-11 1L8.5 8.5l.94-2.06 2.06-.94-2.06-.94L8.5 2.5l-.94 2.06-2.06.94zm10 10l.94 2.06.94-2.06 2.06-.94-2.06-.94-.94-2.06-.94 2.06-2.06.94z\"/><path d=\"M17.41 7.96l-1.37-1.37c-.4-.4-.92-.59-1.43-.59-.52 0-1.04.2-1.43.59L10.3 9.45l-7.72 7.72c-.78.78-.78 2.05 0 2.83L4 21.41c.39.39.9.59 1.41.59.51 0 1.02-.2 1.41-.59l7.78-7.78 2.81-2.81c.8-.78.8-2.07 0-2.86zM5.41 20L4 18.59l7.72-7.72 1.47 1.35L5.41 20z\"/>\n",
              "  </svg>\n",
              "      </button>\n",
              "      \n",
              "  <style>\n",
              "    .colab-df-container {\n",
              "      display:flex;\n",
              "      flex-wrap:wrap;\n",
              "      gap: 12px;\n",
              "    }\n",
              "\n",
              "    .colab-df-convert {\n",
              "      background-color: #E8F0FE;\n",
              "      border: none;\n",
              "      border-radius: 50%;\n",
              "      cursor: pointer;\n",
              "      display: none;\n",
              "      fill: #1967D2;\n",
              "      height: 32px;\n",
              "      padding: 0 0 0 0;\n",
              "      width: 32px;\n",
              "    }\n",
              "\n",
              "    .colab-df-convert:hover {\n",
              "      background-color: #E2EBFA;\n",
              "      box-shadow: 0px 1px 2px rgba(60, 64, 67, 0.3), 0px 1px 3px 1px rgba(60, 64, 67, 0.15);\n",
              "      fill: #174EA6;\n",
              "    }\n",
              "\n",
              "    [theme=dark] .colab-df-convert {\n",
              "      background-color: #3B4455;\n",
              "      fill: #D2E3FC;\n",
              "    }\n",
              "\n",
              "    [theme=dark] .colab-df-convert:hover {\n",
              "      background-color: #434B5C;\n",
              "      box-shadow: 0px 1px 3px 1px rgba(0, 0, 0, 0.15);\n",
              "      filter: drop-shadow(0px 1px 2px rgba(0, 0, 0, 0.3));\n",
              "      fill: #FFFFFF;\n",
              "    }\n",
              "  </style>\n",
              "\n",
              "      <script>\n",
              "        const buttonEl =\n",
              "          document.querySelector('#df-bde8f4fa-2e67-4ce5-87ae-cab5b6ba9ef0 button.colab-df-convert');\n",
              "        buttonEl.style.display =\n",
              "          google.colab.kernel.accessAllowed ? 'block' : 'none';\n",
              "\n",
              "        async function convertToInteractive(key) {\n",
              "          const element = document.querySelector('#df-bde8f4fa-2e67-4ce5-87ae-cab5b6ba9ef0');\n",
              "          const dataTable =\n",
              "            await google.colab.kernel.invokeFunction('convertToInteractive',\n",
              "                                                     [key], {});\n",
              "          if (!dataTable) return;\n",
              "\n",
              "          const docLinkHtml = 'Like what you see? Visit the ' +\n",
              "            '<a target=\"_blank\" href=https://colab.research.google.com/notebooks/data_table.ipynb>data table notebook</a>'\n",
              "            + ' to learn more about interactive tables.';\n",
              "          element.innerHTML = '';\n",
              "          dataTable['output_type'] = 'display_data';\n",
              "          await google.colab.output.renderOutput(dataTable, element);\n",
              "          const docLink = document.createElement('div');\n",
              "          docLink.innerHTML = docLinkHtml;\n",
              "          element.appendChild(docLink);\n",
              "        }\n",
              "      </script>\n",
              "    </div>\n",
              "  </div>\n",
              "  "
            ]
          },
          "metadata": {},
          "execution_count": 25
        }
      ],
      "source": [
        "import pandas as pd\n",
        "df = pd.read_table('/content/drive/MyDrive/diamonds.txt')\n",
        "df.head()"
      ]
    },
    {
      "cell_type": "code",
      "execution_count": 26,
      "id": "f6b8dfba",
      "metadata": {
        "colab": {
          "base_uri": "https://localhost:8080/"
        },
        "id": "f6b8dfba",
        "outputId": "ee637136-61a7-4db5-a5c9-d3c8c5aa291b"
      },
      "outputs": [
        {
          "output_type": "stream",
          "name": "stdout",
          "text": [
            "H0 is rejected.\n"
          ]
        }
      ],
      "source": [
        "# 6. Your answer here\n",
        "X_train, X_test, y_train, y_test = train_test_split(df.drop('price', axis=1), df['price'], test_size=0.25, random_state=1)\n",
        "\n",
        "lr = LinearRegression()\n",
        "lr.fit(X_train, y_train)\n",
        "\n",
        "rf = RandomForestRegressor(n_estimators=10, random_state=1)\n",
        "rf.fit(X_train, y_train)\n",
        "\n",
        "y_pred_lr = lr.predict(X_test)\n",
        "y_pred_rf = rf.predict(X_test)\n",
        "\n",
        "y_pred_lr_dif = np.abs(y_pred_lr - y_test)\n",
        "y_pred_rf_dif = np.abs(y_pred_rf - y_test)\n",
        "\n",
        "t_stat, p_value = stats.ttest_ind(y_pred_lr_dif, y_pred_rf_dif, equal_var=False)\n",
        "\n",
        "if p_value < 0.05:\n",
        "    print(\"H0 is rejected.\")\n",
        "\n",
        "else:\n",
        "    print(\"H0 is not rejected.\")\n"
      ]
    },
    {
      "cell_type": "code",
      "source": [
        "mae_lr = mean_absolute_error(y_test, y_pred_lr)\n",
        "mae_rf = mean_absolute_error(y_test, y_pred_rf)\n",
        "\n",
        "print(\"MAE for linear regression:\", mae_lr)\n",
        "print(\"MAE for random forest:\", mae_rf)"
      ],
      "metadata": {
        "colab": {
          "base_uri": "https://localhost:8080/"
        },
        "id": "GdUfD3xpVrIL",
        "outputId": "cf56fdc1-f7b3-4ce1-9590-5c04785c928a"
      },
      "id": "GdUfD3xpVrIL",
      "execution_count": 27,
      "outputs": [
        {
          "output_type": "stream",
          "name": "stdout",
          "text": [
            "MAE for linear regression: 890.3764004285596\n",
            "MAE for random forest: 802.9205172724115\n"
          ]
        }
      ]
    },
    {
      "cell_type": "markdown",
      "id": "3afb5481",
      "metadata": {
        "id": "3afb5481"
      },
      "source": [
        "**7**. В предыдущей задаче посчитайте 95% доверительный интервал для разности средних абсолютных ошибок предсказаний регрессии и случайного леса. Чему равна его ближайшая к нулю граница? Округлите до десятков (поскольку случайный лес может давать немного разные предсказания в зависимости от версий библиотек, мы просим вас так сильно округлить, чтобы полученное значение наверняка совпало с нашим)."
      ]
    },
    {
      "cell_type": "code",
      "execution_count": 30,
      "id": "7ec9c617",
      "metadata": {
        "colab": {
          "base_uri": "https://localhost:8080/"
        },
        "id": "7ec9c617",
        "outputId": "5ae73374-4634-4ad7-a945-7471ffdfe36b"
      },
      "outputs": [
        {
          "output_type": "stream",
          "name": "stdout",
          "text": [
            "confidence interval (74.28724532595373, 100.62452098634228)\n",
            "lower bound   74.3\n"
          ]
        }
      ],
      "source": [
        "print ('confidence interval' , DescrStatsW(y_pred_lr_dif - y_pred_rf_dif).tconfint_mean())\n",
        "print('lower bound   %0.1f' %DescrStatsW(y_pred_lr_dif - y_pred_rf_dif).tconfint_mean()[0])"
      ]
    },
    {
      "cell_type": "markdown",
      "id": "e9bca597",
      "metadata": {
        "id": "e9bca597"
      },
      "source": [
        "**8**. Существуют две версии одновыборочного Z-критерия для доли, отличающихся формулами для статистики. Одна из этих версий более точная, поэтому мы говорили только о ней, а вторую не обсуждали вообще. Какую из этих двух версий одновыборочных Z-критериев для доли мы проходили?\n",
        "\n",
        "1. Версия множителей Лагранжа со статистикой $Z=\\frac{\\hat{p}-p_o}{\\sqrt{\\frac{p_o(1-p_o)}{n}}}$\n",
        "\n",
        "2. Версия Вальда со статистикой $Z=\\frac{\\hat{p}-p_o}{\\sqrt{\\frac{\\hat{p}(1-\\hat{p})}{n}}}$"
      ]
    },
    {
      "cell_type": "code",
      "execution_count": null,
      "id": "a7a0c1f5",
      "metadata": {
        "id": "a7a0c1f5"
      },
      "outputs": [],
      "source": [
        "# 1"
      ]
    },
    {
      "cell_type": "markdown",
      "id": "f3fa4143",
      "metadata": {
        "id": "f3fa4143"
      },
      "source": [
        "**9**. В одном из выпусков программы \"Разрушители легенд\" проверялось, действительно ли заразительна зевота. В эксперименте участвовало 50 испытуемых, проходивших собеседование на программу. Каждый из них разговаривал с рекрутером; в конце 34 из 50 бесед рекрутер зевал. Затем испытуемых просили подождать решения рекрутера в соседней пустой комнате. \n",
        "\n",
        "Во время ожидания 10 из 34 испытуемых экспериментальной группы и 4 из 16 испытуемых контрольной начали зевать. Таким образом, разница в доле зевающих людей в этих двух группах составила примерно 4.4%. Ведущие заключили, что миф о заразительности зевоты подтверждён. \n",
        "\n",
        "Можно ли утверждать, что доли зевающих в контрольной и экспериментальной группах отличаются статистически значимо? Посчитайте достигаемый уровень значимости при альтернативе заразительности зевоты, округлите до четырёх знаков после десятичной точки."
      ]
    },
    {
      "cell_type": "code",
      "execution_count": null,
      "id": "374b28bf",
      "metadata": {
        "id": "374b28bf"
      },
      "outputs": [],
      "source": [
        "# 9. Your answer here"
      ]
    },
    {
      "cell_type": "code",
      "execution_count": 42,
      "id": "19280c7c",
      "metadata": {
        "colab": {
          "base_uri": "https://localhost:8080/"
        },
        "id": "19280c7c",
        "outputId": "1b86efbc-7dfc-4b72-8f34-c74fcb015c20"
      },
      "outputs": [
        {
          "output_type": "stream",
          "name": "stdout",
          "text": [
            "Z-score: -0.32410186177608225\n",
            "p_value = 0.7459\n",
            "H0 is not rejected.\n"
          ]
        }
      ],
      "source": [
        "from statsmodels.stats.proportion import proportions_ztest\n",
        "n_control = 16\n",
        "x_control = 4\n",
        "n_exp = 34\n",
        "x_exp = 10\n",
        "\n",
        "prop_control = x_control / n_control\n",
        "prop_exp = x_exp / n_exp\n",
        "pooled_prop = (x_control + x_exp) / (n_control + n_exp)\n",
        "\n",
        "z_score, p_value = proportions_ztest([x_control, x_exp], [n_control, n_exp], alternative='two-sided')\n",
        "\n",
        "print(f\"Z-score: {z_score}\")\n",
        "print('p_value = %0.4f' %p_value)\n",
        "\n",
        "if p_value < 0.05:\n",
        "    print(\"H0 is rejected.\")\n",
        "else:\n",
        "    print(\"H0 is not rejected.\")"
      ]
    }
  ],
  "metadata": {
    "kernelspec": {
      "display_name": "stats",
      "language": "python",
      "name": "stats"
    },
    "language_info": {
      "codemirror_mode": {
        "name": "ipython",
        "version": 3
      },
      "file_extension": ".py",
      "mimetype": "text/x-python",
      "name": "python",
      "nbconvert_exporter": "python",
      "pygments_lexer": "ipython3",
      "version": "3.10.8"
    },
    "colab": {
      "provenance": []
    }
  },
  "nbformat": 4,
  "nbformat_minor": 5
}